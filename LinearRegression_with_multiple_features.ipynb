{
  "nbformat": 4,
  "nbformat_minor": 0,
  "metadata": {
    "colab": {
      "name": "LinearRegression with multiple features.ipynb",
      "provenance": [],
      "authorship_tag": "ABX9TyMsT0jcgFgV4pUmlXMTF3AT",
      "include_colab_link": true
    },
    "kernelspec": {
      "name": "python3",
      "display_name": "Python 3"
    },
    "language_info": {
      "name": "python"
    }
  },
  "cells": [
    {
      "cell_type": "markdown",
      "metadata": {
        "id": "view-in-github",
        "colab_type": "text"
      },
      "source": [
        "<a href=\"https://colab.research.google.com/github/msaikiran3103/coursera-test/blob/master/LinearRegression_with_multiple_features.ipynb\" target=\"_parent\"><img src=\"https://colab.research.google.com/assets/colab-badge.svg\" alt=\"Open In Colab\"/></a>"
      ]
    },
    {
      "cell_type": "code",
      "metadata": {
        "id": "8t5_UKcMEGoa"
      },
      "source": [
        "import numpy as np\n",
        "import pandas as pd\n",
        "import matplotlib.pyplot as plt\n",
        "from sklearn import linear_model"
      ],
      "execution_count": 2,
      "outputs": []
    },
    {
      "cell_type": "code",
      "metadata": {
        "colab": {
          "base_uri": "https://localhost:8080/",
          "height": 462
        },
        "id": "nQiS5BbcEgNN",
        "outputId": "226f14df-3333-4f97-c616-e77037c2375d"
      },
      "source": [
        "df = pd.read_csv(\"MagicBricks.csv\")\n",
        "df.head()"
      ],
      "execution_count": 4,
      "outputs": [
        {
          "output_type": "execute_result",
          "data": {
            "text/html": [
              "<div>\n",
              "<style scoped>\n",
              "    .dataframe tbody tr th:only-of-type {\n",
              "        vertical-align: middle;\n",
              "    }\n",
              "\n",
              "    .dataframe tbody tr th {\n",
              "        vertical-align: top;\n",
              "    }\n",
              "\n",
              "    .dataframe thead th {\n",
              "        text-align: right;\n",
              "    }\n",
              "</style>\n",
              "<table border=\"1\" class=\"dataframe\">\n",
              "  <thead>\n",
              "    <tr style=\"text-align: right;\">\n",
              "      <th></th>\n",
              "      <th>Area</th>\n",
              "      <th>BHK</th>\n",
              "      <th>Bathroom</th>\n",
              "      <th>Furnishing</th>\n",
              "      <th>Locality</th>\n",
              "      <th>Parking</th>\n",
              "      <th>Price</th>\n",
              "      <th>Status</th>\n",
              "      <th>Transaction</th>\n",
              "      <th>Type</th>\n",
              "      <th>Per_Sqft</th>\n",
              "    </tr>\n",
              "  </thead>\n",
              "  <tbody>\n",
              "    <tr>\n",
              "      <th>0</th>\n",
              "      <td>800.0</td>\n",
              "      <td>3</td>\n",
              "      <td>2.0</td>\n",
              "      <td>Semi-Furnished</td>\n",
              "      <td>Rohini Sector 25</td>\n",
              "      <td>1.0</td>\n",
              "      <td>6500000</td>\n",
              "      <td>Ready_to_move</td>\n",
              "      <td>New_Property</td>\n",
              "      <td>Builder_Floor</td>\n",
              "      <td>NaN</td>\n",
              "    </tr>\n",
              "    <tr>\n",
              "      <th>1</th>\n",
              "      <td>750.0</td>\n",
              "      <td>2</td>\n",
              "      <td>2.0</td>\n",
              "      <td>Semi-Furnished</td>\n",
              "      <td>J R Designers Floors, Rohini Sector 24</td>\n",
              "      <td>1.0</td>\n",
              "      <td>5000000</td>\n",
              "      <td>Ready_to_move</td>\n",
              "      <td>New_Property</td>\n",
              "      <td>Apartment</td>\n",
              "      <td>6667.0</td>\n",
              "    </tr>\n",
              "    <tr>\n",
              "      <th>2</th>\n",
              "      <td>950.0</td>\n",
              "      <td>2</td>\n",
              "      <td>2.0</td>\n",
              "      <td>Furnished</td>\n",
              "      <td>Citizen Apartment, Rohini Sector 13</td>\n",
              "      <td>1.0</td>\n",
              "      <td>15500000</td>\n",
              "      <td>Ready_to_move</td>\n",
              "      <td>Resale</td>\n",
              "      <td>Apartment</td>\n",
              "      <td>6667.0</td>\n",
              "    </tr>\n",
              "    <tr>\n",
              "      <th>3</th>\n",
              "      <td>600.0</td>\n",
              "      <td>2</td>\n",
              "      <td>2.0</td>\n",
              "      <td>Semi-Furnished</td>\n",
              "      <td>Rohini Sector 24</td>\n",
              "      <td>1.0</td>\n",
              "      <td>4200000</td>\n",
              "      <td>Ready_to_move</td>\n",
              "      <td>Resale</td>\n",
              "      <td>Builder_Floor</td>\n",
              "      <td>6667.0</td>\n",
              "    </tr>\n",
              "    <tr>\n",
              "      <th>4</th>\n",
              "      <td>650.0</td>\n",
              "      <td>2</td>\n",
              "      <td>2.0</td>\n",
              "      <td>Semi-Furnished</td>\n",
              "      <td>Rohini Sector 24 carpet area 650 sqft status R...</td>\n",
              "      <td>1.0</td>\n",
              "      <td>6200000</td>\n",
              "      <td>Ready_to_move</td>\n",
              "      <td>New_Property</td>\n",
              "      <td>Builder_Floor</td>\n",
              "      <td>6667.0</td>\n",
              "    </tr>\n",
              "  </tbody>\n",
              "</table>\n",
              "</div>"
            ],
            "text/plain": [
              "    Area  BHK  Bathroom  ...   Transaction           Type  Per_Sqft\n",
              "0  800.0    3       2.0  ...  New_Property  Builder_Floor       NaN\n",
              "1  750.0    2       2.0  ...  New_Property      Apartment    6667.0\n",
              "2  950.0    2       2.0  ...        Resale      Apartment    6667.0\n",
              "3  600.0    2       2.0  ...        Resale  Builder_Floor    6667.0\n",
              "4  650.0    2       2.0  ...  New_Property  Builder_Floor    6667.0\n",
              "\n",
              "[5 rows x 11 columns]"
            ]
          },
          "metadata": {},
          "execution_count": 4
        }
      ]
    },
    {
      "cell_type": "code",
      "metadata": {
        "colab": {
          "base_uri": "https://localhost:8080/",
          "height": 479
        },
        "id": "QmfU7gFfGkrl",
        "outputId": "fa78f8cd-9c3c-43cb-b884-ea2b8f7f295a"
      },
      "source": [
        "d = pd.read_csv(\"TrainData.csv\")\n",
        "d = d.dropna()\n",
        "d.head()"
      ],
      "execution_count": 19,
      "outputs": [
        {
          "output_type": "execute_result",
          "data": {
            "text/html": [
              "<div>\n",
              "<style scoped>\n",
              "    .dataframe tbody tr th:only-of-type {\n",
              "        vertical-align: middle;\n",
              "    }\n",
              "\n",
              "    .dataframe tbody tr th {\n",
              "        vertical-align: top;\n",
              "    }\n",
              "\n",
              "    .dataframe thead th {\n",
              "        text-align: right;\n",
              "    }\n",
              "</style>\n",
              "<table border=\"1\" class=\"dataframe\">\n",
              "  <thead>\n",
              "    <tr style=\"text-align: right;\">\n",
              "      <th></th>\n",
              "      <th>Unnamed: 0</th>\n",
              "      <th>Area</th>\n",
              "      <th>BHK</th>\n",
              "      <th>Bathroom</th>\n",
              "      <th>Furnishing</th>\n",
              "      <th>Locality</th>\n",
              "      <th>Parking</th>\n",
              "      <th>Price</th>\n",
              "      <th>Status</th>\n",
              "      <th>Transaction</th>\n",
              "      <th>Type</th>\n",
              "      <th>Per_Sqft</th>\n",
              "    </tr>\n",
              "  </thead>\n",
              "  <tbody>\n",
              "    <tr>\n",
              "      <th>1</th>\n",
              "      <td>1</td>\n",
              "      <td>750.0</td>\n",
              "      <td>2</td>\n",
              "      <td>2.0</td>\n",
              "      <td>Semi-Furnished</td>\n",
              "      <td>J R Designers Floors, Rohini Sector 24</td>\n",
              "      <td>1.0</td>\n",
              "      <td>5000000</td>\n",
              "      <td>Ready_to_move</td>\n",
              "      <td>New_Property</td>\n",
              "      <td>Apartment</td>\n",
              "      <td>6667.0</td>\n",
              "    </tr>\n",
              "    <tr>\n",
              "      <th>2</th>\n",
              "      <td>2</td>\n",
              "      <td>950.0</td>\n",
              "      <td>2</td>\n",
              "      <td>2.0</td>\n",
              "      <td>Furnished</td>\n",
              "      <td>Citizen Apartment, Rohini Sector 13</td>\n",
              "      <td>1.0</td>\n",
              "      <td>15500000</td>\n",
              "      <td>Ready_to_move</td>\n",
              "      <td>Resale</td>\n",
              "      <td>Apartment</td>\n",
              "      <td>6667.0</td>\n",
              "    </tr>\n",
              "    <tr>\n",
              "      <th>3</th>\n",
              "      <td>3</td>\n",
              "      <td>600.0</td>\n",
              "      <td>2</td>\n",
              "      <td>2.0</td>\n",
              "      <td>Semi-Furnished</td>\n",
              "      <td>Rohini Sector 24</td>\n",
              "      <td>1.0</td>\n",
              "      <td>4200000</td>\n",
              "      <td>Ready_to_move</td>\n",
              "      <td>Resale</td>\n",
              "      <td>Builder_Floor</td>\n",
              "      <td>6667.0</td>\n",
              "    </tr>\n",
              "    <tr>\n",
              "      <th>4</th>\n",
              "      <td>4</td>\n",
              "      <td>650.0</td>\n",
              "      <td>2</td>\n",
              "      <td>2.0</td>\n",
              "      <td>Semi-Furnished</td>\n",
              "      <td>Rohini Sector 24 carpet area 650 sqft status R...</td>\n",
              "      <td>1.0</td>\n",
              "      <td>6200000</td>\n",
              "      <td>Ready_to_move</td>\n",
              "      <td>New_Property</td>\n",
              "      <td>Builder_Floor</td>\n",
              "      <td>6667.0</td>\n",
              "    </tr>\n",
              "    <tr>\n",
              "      <th>5</th>\n",
              "      <td>5</td>\n",
              "      <td>1300.0</td>\n",
              "      <td>4</td>\n",
              "      <td>3.0</td>\n",
              "      <td>Semi-Furnished</td>\n",
              "      <td>Rohini Sector 24</td>\n",
              "      <td>1.0</td>\n",
              "      <td>15500000</td>\n",
              "      <td>Ready_to_move</td>\n",
              "      <td>New_Property</td>\n",
              "      <td>Builder_Floor</td>\n",
              "      <td>6667.0</td>\n",
              "    </tr>\n",
              "  </tbody>\n",
              "</table>\n",
              "</div>"
            ],
            "text/plain": [
              "   Unnamed: 0    Area  BHK  ...   Transaction           Type Per_Sqft\n",
              "1           1   750.0    2  ...  New_Property      Apartment   6667.0\n",
              "2           2   950.0    2  ...        Resale      Apartment   6667.0\n",
              "3           3   600.0    2  ...        Resale  Builder_Floor   6667.0\n",
              "4           4   650.0    2  ...  New_Property  Builder_Floor   6667.0\n",
              "5           5  1300.0    4  ...  New_Property  Builder_Floor   6667.0\n",
              "\n",
              "[5 rows x 12 columns]"
            ]
          },
          "metadata": {},
          "execution_count": 19
        }
      ]
    },
    {
      "cell_type": "code",
      "metadata": {
        "colab": {
          "base_uri": "https://localhost:8080/"
        },
        "id": "5HoZ34iZIeBz",
        "outputId": "f5017b39-0c4c-49fa-e8e4-ee460a2e6990"
      },
      "source": [
        "reg = linear_model.LinearRegression()\n",
        "reg.fit(d[['Per_Sqft','Bathroom','BHK']],d.Price)"
      ],
      "execution_count": 22,
      "outputs": [
        {
          "output_type": "execute_result",
          "data": {
            "text/plain": [
              "LinearRegression(copy_X=True, fit_intercept=True, n_jobs=None, normalize=False)"
            ]
          },
          "metadata": {},
          "execution_count": 22
        }
      ]
    },
    {
      "cell_type": "code",
      "metadata": {
        "colab": {
          "base_uri": "https://localhost:8080/"
        },
        "id": "d9jfBJc1KjUi",
        "outputId": "12d6f1ba-0996-43c4-9eb6-ceed8448ce05"
      },
      "source": [
        "reg.coef_ #This is m - which is slope in intercept formula (Ex : y=mx+c)\n",
        "reg.intercept_ #This is c value"
      ],
      "execution_count": 26,
      "outputs": [
        {
          "output_type": "execute_result",
          "data": {
            "text/plain": [
              "-33297572.67882541"
            ]
          },
          "metadata": {},
          "execution_count": 26
        }
      ]
    },
    {
      "cell_type": "code",
      "metadata": {
        "colab": {
          "base_uri": "https://localhost:8080/"
        },
        "id": "FPx8g07gLDmX",
        "outputId": "9a9a5507-010b-4b18-ab1a-7b9d2e1c1e9b"
      },
      "source": [
        "reg.predict([[10000.0,3.0,3]])"
      ],
      "execution_count": 33,
      "outputs": [
        {
          "output_type": "execute_result",
          "data": {
            "text/plain": [
              "array([28008347.8869745])"
            ]
          },
          "metadata": {},
          "execution_count": 33
        }
      ]
    },
    {
      "cell_type": "code",
      "metadata": {
        "colab": {
          "base_uri": "https://localhost:8080/",
          "height": 293
        },
        "id": "CXuq7p_mNH8W",
        "outputId": "b19bb9c6-ff1e-431a-856a-e2578ac6de3c"
      },
      "source": [
        "plt.scatter(d.Per_Sqft,d.Price,color=\"red\")\n",
        "plt.plot(d.Per_Sqft,d.Price)"
      ],
      "execution_count": 43,
      "outputs": [
        {
          "output_type": "execute_result",
          "data": {
            "text/plain": [
              "[<matplotlib.lines.Line2D at 0x7effebdb4f50>]"
            ]
          },
          "metadata": {},
          "execution_count": 43
        },
        {
          "output_type": "display_data",
          "data": {
            "image/png": "[encoded data removed]",
            "text/plain": [
              "<Figure size 432x288 with 1 Axes>"
            ]
          },
          "metadata": {
            "needs_background": "light"
          }
        }
      ]
    }
  ]
}